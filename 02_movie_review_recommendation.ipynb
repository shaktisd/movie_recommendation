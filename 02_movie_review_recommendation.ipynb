{
 "cells": [
  {
   "cell_type": "markdown",
   "metadata": {},
   "source": [
    "# Movie Recommendation\n",
    "- https://towardsdatascience.com/using-cosine-similarity-to-build-a-movie-recommendation-system-ae7f20842599"
   ]
  },
  {
   "cell_type": "code",
   "execution_count": 1,
   "metadata": {},
   "outputs": [],
   "source": [
    "import pandas as pd\n",
    "import numpy as np\n",
    "from sklearn.feature_extraction.text import CountVectorizer\n",
    "from sklearn.metrics.pairwise import cosine_similarity\n",
    "df = pd.read_csv(r\"../../data/movie_dataset.csv\")"
   ]
  },
  {
   "cell_type": "code",
   "execution_count": 2,
   "metadata": {},
   "outputs": [
    {
     "data": {
      "text/plain": [
       "3892                                归来\n",
       "1894                               War\n",
       "1530                            Flight\n",
       "3983                     Hustle & Flow\n",
       "1727                    3 Days to Kill\n",
       "571               Inglourious Basterds\n",
       "1382                              TMNT\n",
       "1108                         Pinocchio\n",
       "950                     The Negotiator\n",
       "1633                       Ultraviolet\n",
       "3835                         The Witch\n",
       "1132                   Red Riding Hood\n",
       "3034                               Mud\n",
       "3010             Employee of the Month\n",
       "2150                    Eye for an Eye\n",
       "1933                     Underclassman\n",
       "180               The Bourne Ultimatum\n",
       "1433                 The Four Feathers\n",
       "111                       Transformers\n",
       "208                   The 13th Warrior\n",
       "1441    Walk Hard: The Dewey Cox Story\n",
       "1421                             Hoffa\n",
       "2546                        The Skulls\n",
       "1778                     Freaky Friday\n",
       "4197                 My Summer of Love\n",
       "4452               جدایی نادر از سیمین\n",
       "576                  Lady in the Water\n",
       "4739       I Love You, Don't Touch Me!\n",
       "2184                                功夫\n",
       "3584                              Race\n",
       "Name: original_title, dtype: object"
      ]
     },
     "execution_count": 2,
     "metadata": {},
     "output_type": "execute_result"
    }
   ],
   "source": [
    "df['original_title'].sample(30)"
   ]
  },
  {
   "cell_type": "code",
   "execution_count": 3,
   "metadata": {},
   "outputs": [
    {
     "data": {
      "text/html": [
       "<div>\n",
       "<style scoped>\n",
       "    .dataframe tbody tr th:only-of-type {\n",
       "        vertical-align: middle;\n",
       "    }\n",
       "\n",
       "    .dataframe tbody tr th {\n",
       "        vertical-align: top;\n",
       "    }\n",
       "\n",
       "    .dataframe thead th {\n",
       "        text-align: right;\n",
       "    }\n",
       "</style>\n",
       "<table border=\"1\" class=\"dataframe\">\n",
       "  <thead>\n",
       "    <tr style=\"text-align: right;\">\n",
       "      <th></th>\n",
       "      <th>index</th>\n",
       "      <th>budget</th>\n",
       "      <th>genres</th>\n",
       "      <th>homepage</th>\n",
       "      <th>id</th>\n",
       "      <th>keywords</th>\n",
       "      <th>original_language</th>\n",
       "      <th>original_title</th>\n",
       "      <th>overview</th>\n",
       "      <th>popularity</th>\n",
       "      <th>...</th>\n",
       "      <th>runtime</th>\n",
       "      <th>spoken_languages</th>\n",
       "      <th>status</th>\n",
       "      <th>tagline</th>\n",
       "      <th>title</th>\n",
       "      <th>vote_average</th>\n",
       "      <th>vote_count</th>\n",
       "      <th>cast</th>\n",
       "      <th>crew</th>\n",
       "      <th>director</th>\n",
       "    </tr>\n",
       "  </thead>\n",
       "  <tbody>\n",
       "    <tr>\n",
       "      <th>566</th>\n",
       "      <td>566</td>\n",
       "      <td>120000000</td>\n",
       "      <td>Animation Adventure Comedy Family</td>\n",
       "      <td>http://disney.go.com/disneyvideos/animatedfilm...</td>\n",
       "      <td>920</td>\n",
       "      <td>car race car journey village and town auto rou...</td>\n",
       "      <td>en</td>\n",
       "      <td>Cars</td>\n",
       "      <td>Lightning McQueen, a hotshot rookie race car d...</td>\n",
       "      <td>82.643036</td>\n",
       "      <td>...</td>\n",
       "      <td>117.0</td>\n",
       "      <td>[{\"iso_639_1\": \"en\", \"name\": \"English\"}, {\"iso...</td>\n",
       "      <td>Released</td>\n",
       "      <td>Ahhh... it's got that new movie smell.</td>\n",
       "      <td>Cars</td>\n",
       "      <td>6.6</td>\n",
       "      <td>3877</td>\n",
       "      <td>Owen Wilson Paul Newman Bonnie Hunt Larry the ...</td>\n",
       "      <td>[{'name': 'John Lasseter', 'gender': 2, 'depar...</td>\n",
       "      <td>John Lasseter</td>\n",
       "    </tr>\n",
       "  </tbody>\n",
       "</table>\n",
       "<p>1 rows × 24 columns</p>\n",
       "</div>"
      ],
      "text/plain": [
       "     index     budget                             genres  \\\n",
       "566    566  120000000  Animation Adventure Comedy Family   \n",
       "\n",
       "                                              homepage   id  \\\n",
       "566  http://disney.go.com/disneyvideos/animatedfilm...  920   \n",
       "\n",
       "                                              keywords original_language  \\\n",
       "566  car race car journey village and town auto rou...                en   \n",
       "\n",
       "    original_title                                           overview  \\\n",
       "566           Cars  Lightning McQueen, a hotshot rookie race car d...   \n",
       "\n",
       "     popularity  ... runtime  \\\n",
       "566   82.643036  ...   117.0   \n",
       "\n",
       "                                      spoken_languages    status  \\\n",
       "566  [{\"iso_639_1\": \"en\", \"name\": \"English\"}, {\"iso...  Released   \n",
       "\n",
       "                                    tagline  title vote_average vote_count  \\\n",
       "566  Ahhh... it's got that new movie smell.   Cars          6.6       3877   \n",
       "\n",
       "                                                  cast  \\\n",
       "566  Owen Wilson Paul Newman Bonnie Hunt Larry the ...   \n",
       "\n",
       "                                                  crew       director  \n",
       "566  [{'name': 'John Lasseter', 'gender': 2, 'depar...  John Lasseter  \n",
       "\n",
       "[1 rows x 24 columns]"
      ]
     },
     "execution_count": 3,
     "metadata": {},
     "output_type": "execute_result"
    }
   ],
   "source": [
    "df.loc[df.original_title == 'Cars']"
   ]
  },
  {
   "cell_type": "code",
   "execution_count": 4,
   "metadata": {},
   "outputs": [
    {
     "data": {
      "text/plain": [
       "(4803, 24)"
      ]
     },
     "execution_count": 4,
     "metadata": {},
     "output_type": "execute_result"
    }
   ],
   "source": [
    "df.shape"
   ]
  },
  {
   "cell_type": "code",
   "execution_count": 5,
   "metadata": {},
   "outputs": [],
   "source": [
    "features = ['keywords', 'cast', 'genres', 'director']\n",
    "for feature in features:\n",
    "    df[feature] = df[feature].fillna('')"
   ]
  },
  {
   "cell_type": "code",
   "execution_count": 6,
   "metadata": {},
   "outputs": [],
   "source": [
    "def combined_features(row):\n",
    "    return row['keywords']+\" \"+row['cast']+\" \"+row['genres']+\" \"+row['director']\n",
    "df[\"combined_features\"] = df.apply(combined_features, axis =1)"
   ]
  },
  {
   "cell_type": "code",
   "execution_count": 7,
   "metadata": {},
   "outputs": [
    {
     "name": "stdout",
     "output_type": "stream",
     "text": [
      "Count Matrix: [[0 0 0 ... 0 0 0]\n",
      " [0 0 0 ... 0 0 0]\n",
      " [0 0 0 ... 0 0 0]\n",
      " ...\n",
      " [0 0 0 ... 0 0 0]\n",
      " [0 0 0 ... 0 0 0]\n",
      " [0 0 0 ... 0 0 0]]\n"
     ]
    }
   ],
   "source": [
    "cv = CountVectorizer()\n",
    "count_matrix = cv.fit_transform(df[\"combined_features\"])\n",
    "print(\"Count Matrix:\", count_matrix.toarray())"
   ]
  },
  {
   "cell_type": "code",
   "execution_count": 8,
   "metadata": {},
   "outputs": [
    {
     "data": {
      "text/plain": [
       "(4803, 14845)"
      ]
     },
     "execution_count": 8,
     "metadata": {},
     "output_type": "execute_result"
    }
   ],
   "source": [
    "count_matrix.shape"
   ]
  },
  {
   "cell_type": "code",
   "execution_count": 9,
   "metadata": {},
   "outputs": [
    {
     "data": {
      "text/plain": [
       "14845"
      ]
     },
     "execution_count": 9,
     "metadata": {},
     "output_type": "execute_result"
    }
   ],
   "source": [
    "len(cv.get_feature_names())"
   ]
  },
  {
   "cell_type": "code",
   "execution_count": 10,
   "metadata": {},
   "outputs": [
    {
     "data": {
      "text/plain": [
       "<4803x14845 sparse matrix of type '<class 'numpy.int64'>'\n",
       "\twith 97547 stored elements in Compressed Sparse Row format>"
      ]
     },
     "execution_count": 10,
     "metadata": {},
     "output_type": "execute_result"
    }
   ],
   "source": [
    "count_matrix"
   ]
  },
  {
   "cell_type": "code",
   "execution_count": 11,
   "metadata": {},
   "outputs": [],
   "source": [
    "cosine_sim = cosine_similarity(count_matrix)"
   ]
  },
  {
   "cell_type": "code",
   "execution_count": 12,
   "metadata": {},
   "outputs": [],
   "source": [
    "movie_user_likes = \"Cars\"\n",
    "def get_index_from_title(title):\n",
    "    return df[df.title == title][\"index\"].values[0]\n",
    "\n",
    "movie_index = get_index_from_title(movie_user_likes)\n",
    "similar_movies = list(enumerate(cosine_sim[movie_index]))\n",
    "sorted_similar_movies = sorted(similar_movies, key=lambda x:x[1], reverse=True)"
   ]
  },
  {
   "cell_type": "code",
   "execution_count": 13,
   "metadata": {},
   "outputs": [],
   "source": [
    "def get_features(movie_index):\n",
    "    f = pd.DataFrame.sparse.from_spmatrix(count_matrix[movie_index], columns =cv.get_feature_names() )\n",
    "    m2 = (f != 0).any()\n",
    "    return f[m2.index[m2]].T"
   ]
  },
  {
   "cell_type": "code",
   "execution_count": 14,
   "metadata": {},
   "outputs": [
    {
     "name": "stdout",
     "output_type": "stream",
     "text": [
      "566 Cars\n",
      "40 Cars 2\n",
      "405 The Fast and the Furious: Tokyo Drift\n",
      "500 2 Fast 2 Furious\n",
      "935 Herbie Fully Loaded\n",
      "1152 Back to the Future Part II\n",
      "1186 The Final Destination\n",
      "706 Days of Thunder\n",
      "2285 Back to the Future\n",
      "2426 Larry the Cable Guy: Health Inspector\n",
      "503 The Adventures of Rocky & Bullwinkle\n",
      "130 Bolt\n",
      "1086 Aliens in the Attic\n",
      "44 Furious 7\n",
      "3318 Witless Protection\n",
      "1983 Meet the Deedles\n"
     ]
    }
   ],
   "source": [
    "def get_title_from_index(index):\n",
    "    return df[df.index == index][\"title\"].values[0]\n",
    "\n",
    "features = []\n",
    "\n",
    "i=0\n",
    "for movie in sorted_similar_movies:\n",
    "    print(movie[0] , get_title_from_index(movie[0]))\n",
    "    feature_vector = get_features(movie[0])\n",
    "    features.append(feature_vector)\n",
    "    i=i+1\n",
    "    if i>15:\n",
    "        break"
   ]
  },
  {
   "cell_type": "code",
   "execution_count": 15,
   "metadata": {},
   "outputs": [
    {
     "data": {
      "text/html": [
       "<div>\n",
       "<style scoped>\n",
       "    .dataframe tbody tr th:only-of-type {\n",
       "        vertical-align: middle;\n",
       "    }\n",
       "\n",
       "    .dataframe tbody tr th {\n",
       "        vertical-align: top;\n",
       "    }\n",
       "\n",
       "    .dataframe thead th {\n",
       "        text-align: right;\n",
       "    }\n",
       "</style>\n",
       "<table border=\"1\" class=\"dataframe\">\n",
       "  <thead>\n",
       "    <tr style=\"text-align: right;\">\n",
       "      <th></th>\n",
       "      <th>0</th>\n",
       "      <th>0</th>\n",
       "      <th>0</th>\n",
       "    </tr>\n",
       "  </thead>\n",
       "  <tbody>\n",
       "    <tr>\n",
       "      <th>car</th>\n",
       "      <td>2.0</td>\n",
       "      <td>1.0</td>\n",
       "      <td>4.0</td>\n",
       "    </tr>\n",
       "    <tr>\n",
       "      <th>race</th>\n",
       "      <td>1.0</td>\n",
       "      <td>1.0</td>\n",
       "      <td>1.0</td>\n",
       "    </tr>\n",
       "  </tbody>\n",
       "</table>\n",
       "</div>"
      ],
      "text/plain": [
       "        0    0    0\n",
       "car   2.0  1.0  4.0\n",
       "race  1.0  1.0  1.0"
      ]
     },
     "execution_count": 15,
     "metadata": {},
     "output_type": "execute_result"
    }
   ],
   "source": [
    "pd.concat(features[0:3], axis=1).dropna()"
   ]
  },
  {
   "cell_type": "code",
   "execution_count": null,
   "metadata": {},
   "outputs": [],
   "source": []
  }
 ],
 "metadata": {
  "kernelspec": {
   "display_name": "tf_env",
   "language": "python",
   "name": "tf_env"
  },
  "language_info": {
   "codemirror_mode": {
    "name": "ipython",
    "version": 3
   },
   "file_extension": ".py",
   "mimetype": "text/x-python",
   "name": "python",
   "nbconvert_exporter": "python",
   "pygments_lexer": "ipython3",
   "version": "3.8.5"
  }
 },
 "nbformat": 4,
 "nbformat_minor": 4
}
